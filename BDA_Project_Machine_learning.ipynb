{
  "cells": [
    {
      "cell_type": "markdown",
      "metadata": {
        "id": "view-in-github",
        "colab_type": "text"
      },
      "source": [
        "<a href=\"https://colab.research.google.com/github/shmda/ZNAS-Kid/blob/main/BDA_Project_Machine_learning.ipynb\" target=\"_parent\"><img src=\"https://colab.research.google.com/assets/colab-badge.svg\" alt=\"Open In Colab\"/></a>"
      ]
    },
    {
      "cell_type": "markdown",
      "source": [
        "### **\"Analyzing Marital Dynamics: Understanding Relationship Patterns among Divorced Couples\"**\n"
      ],
      "metadata": {
        "id": "lvdWpD9UOQgO"
      }
    },
    {
      "cell_type": "markdown",
      "source": [
        "\n",
        "- Bawazier Najla Geis Junaid - 2017868 - jullienajla@gmail.com\n",
        "- Shomida Roumhayaty - 2011978 - shomida.rhmalik@gmail.com\n",
        "- Muhammad Amirul Asyraf bin Mohd Razli - 2013137 - amirowl171201@gmail.com\n",
        "- Rafi Taufiqul Hafizh - 1927529 - rafi.taufiqul@gmail.com"
      ],
      "metadata": {
        "id": "_ECpu7woOR42"
      }
    },
    {
      "cell_type": "markdown",
      "source": [
        "\n",
        "\n",
        "**Content:**\n",
        "1. **Data Science Questions**\n",
        "2. **Methodology**\n",
        "3. **Objectives**\n",
        "4. **Code**:\n",
        "-  **Importing Libraries**\n",
        "- **Loading the dataset:** Load the data and feature selection\n",
        "-  **Data Preprocessing:**\n",
        " - Dropping duplicates.\n",
        " - Remove the NaN values from the dataset\n",
        "- **EDA**\n",
        "- **Analysis**\n",
        "- **Model Development**"
      ],
      "metadata": {
        "id": "MMFKwnl-OTlF"
      }
    },
    {
      "cell_type": "markdown",
      "source": [
        "**DATA SCIENCE QUESTIONS:**\n",
        "1. Is there a correlation between the levels of candidness during discussions among couples and their shared values in trust? (Attribute 20,52,53,54)\n",
        "2. Are there any differences in communication patterns between couples who have similar ideas about roles in marriage and those who do not? (Attribute 18,34,35,36)\n",
        "3. What is the average level of similarity in goals, sense of entertainment, and dreams among couples?(Attribute 10,15,13)\n",
        "4. Do couples who spend more time together have higher levels of agreement in their discussions? (Attribute 1,5)\n",
        "5. Is there a significant difference in the levels of aggression during arguments based on the frequency of sudden discussions? (Attribute 36,39)\n",
        "6. Is there a relationship between the level of agreement on how marriage should be and the level of agreement on roles in marriage? (Attribute 18,19)\n",
        "7. Can we classify couples' communication patterns (calm or not calm) based on their aggressiveness during arguments and frequency of sudden discussions? (Attribute 31,37,39)\n",
        "8. Is there a correlation between the level of enjoyment of holidays and the amount of quality time spent together as partners, considering their shared view of happiness? (Attribute 8,6,17)\n",
        "9. What is the average level of understanding of each other's interests, inner world, and social life among couples? (Attribute 21,25,30)\n",
        "10. Can we predict the likelihood of apologizing during arguments based on the calmness of discussion, the tendency to stay silent, and the ability to reset and correct discussions with a spouse? (Attributes 1, 37,45,3)\n",
        "11. What is the distribution of couples' levels of aggression during arguments and their tendency to stay silent, considering the frequency of sudden discussions? (Attribute 31,35,39)\n",
        "\n",
        "\n"
      ],
      "metadata": {
        "id": "EGoyDck-OYu2"
      }
    },
    {
      "cell_type": "markdown",
      "source": [
        "1. **Importing Libraries**"
      ],
      "metadata": {
        "id": "JCBhK9B4OeH9"
      }
    },
    {
      "cell_type": "code",
      "execution_count": null,
      "metadata": {
        "id": "4NzXXegIm-Tg"
      },
      "outputs": [],
      "source": [
        "!apt-get install openjdk-8-jdk-headless -qq> /dev/null"
      ]
    },
    {
      "cell_type": "code",
      "execution_count": null,
      "metadata": {
        "id": "bqY_CD4wnEil"
      },
      "outputs": [],
      "source": [
        "!wget -q https://dlcdn.apache.org/spark/spark-3.3.2/spark-3.3.2-bin-hadoop3.tgz"
      ]
    },
    {
      "cell_type": "code",
      "execution_count": null,
      "metadata": {
        "id": "uBI861uQnGFE"
      },
      "outputs": [],
      "source": [
        "!tar xf spark-3.3.2-bin-hadoop3.tgz"
      ]
    },
    {
      "cell_type": "code",
      "execution_count": null,
      "metadata": {
        "id": "jUIcu5x4nH2g"
      },
      "outputs": [],
      "source": [
        "import os\n",
        "os.environ[\"JAVA_HOME\"] = \"/usr/lib/jvm/java-8-openjdk-amd64\"\n",
        "os.environ[\"SPARK_HOME\"] = \"/content/spark-3.3.2-bin-hadoop3\""
      ]
    },
    {
      "cell_type": "code",
      "execution_count": null,
      "metadata": {
        "colab": {
          "base_uri": "https://localhost:8080/",
          "height": 36
        },
        "id": "1RiPffNgnIz_",
        "outputId": "cfc9f84f-b180-4e34-b861-6636de43837c"
      },
      "outputs": [
        {
          "output_type": "execute_result",
          "data": {
            "text/plain": [
              "'/content/spark-3.3.2-bin-hadoop3'"
            ],
            "application/vnd.google.colaboratory.intrinsic+json": {
              "type": "string"
            }
          },
          "metadata": {},
          "execution_count": 5
        }
      ],
      "source": [
        "!pip install -q findspark\n",
        "import findspark\n",
        "findspark.init()\n",
        "findspark.find()"
      ]
    },
    {
      "cell_type": "code",
      "execution_count": null,
      "metadata": {
        "id": "CIXF_3NdnJsN"
      },
      "outputs": [],
      "source": [
        "from pyspark.sql.functions import col"
      ]
    },
    {
      "cell_type": "markdown",
      "source": [
        "2. **Load the Data**\n",
        "- selecting only features that is related to the analysis"
      ],
      "metadata": {
        "id": "CO3xBo9NOhlF"
      }
    },
    {
      "cell_type": "code",
      "execution_count": null,
      "metadata": {
        "colab": {
          "base_uri": "https://localhost:8080/"
        },
        "id": "sohB3a32nLAV",
        "outputId": "14a4fd13-7ef1-48fa-a7de-85543e31a5f3"
      },
      "outputs": [
        {
          "output_type": "stream",
          "name": "stdout",
          "text": [
            "+----+----+----+----+----+-----+-----+-----+-----+-----+-----+-----+-----+-----+-----+-----+-----+-----+-----+-----+-----+-----+-----+-----+-----+-----+\n",
            "|Atr1|Atr3|Atr5|Atr6|Atr8|Atr10|Atr13|Atr15|Atr17|Atr18|Atr19|Atr20|Atr21|Atr25|Atr30|Atr31|Atr34|Atr35|Atr36|Atr37|Atr39|Atr45|Atr52|Atr53|Atr54|Class|\n",
            "+----+----+----+----+----+-----+-----+-----+-----+-----+-----+-----+-----+-----+-----+-----+-----+-----+-----+-----+-----+-----+-----+-----+-----+-----+\n",
            "|   2|   4|   0|   0|   0|    0|    1|    0|    0|    0|    0|    1|    0|    0|    1|    1|    2|    0|    1|    2|    3|    3|    3|    2|    1|    1|\n",
            "|   4|   4|   4|   0|   4|    4|    4|    4|    4|    4|    3|    2|    1|    2|    1|    0|    3|    0|    2|    3|    2|    2|    4|    2|    2|    1|\n",
            "|   2|   2|   1|   3|   1|    2|    2|    3|    3|    3|    3|    2|    1|    2|    2|    3|    1|    1|    1|    2|    3|    2|    2|    2|    2|    1|\n",
            "|   3|   3|   3|   3|   3|    3|    3|    3|    3|    3|    3|    4|    1|    2|    3|    2|    2|    1|    1|    3|    4|    3|    2|    2|    2|    1|\n",
            "|   2|   1|   1|   1|   0|    0|    0|    1|    1|    1|    2|    1|    1|    0|    1|    1|    1|    0|    0|    0|    2|    2|    2|    1|    0|    1|\n",
            "|   0|   1|   0|   2|   0|    1|    1|    2|    2|    1|    0|    1|    0|    2|    0|    4|    1|    1|    1|    1|    0|    0|    1|    2|    0|    1|\n",
            "|   3|   3|   1|   3|   3|    2|    2|    2|    3|    3|    3|    2|    3|    2|    2|    1|    1|    1|    2|    3|    2|    3|    2|    2|    2|    1|\n",
            "|   2|   2|   2|   1|   3|    2|    2|    4|    2|    3|    2|    1|    2|    3|    3|    1|    2|    2|    1|    4|    4|    0|    1|    1|    0|    1|\n",
            "|   2|   1|   0|   4|   3|    3|    3|    3|    3|    3|    3|    3|    2|    2|    3|    1|    1|    1|    1|    1|    2|    2|    1|    1|    1|    1|\n",
            "|   1|   1|   1|   2|   2|    2|    0|    1|    1|    2|    1|    0|    0|    1|    1|    1|    1|    0|    0|    1|    2|    2|    4|    3|    3|    1|\n",
            "|   4|   4|   4|   0|   4|    3|    4|    4|    4|    4|    4|    4|    4|    4|    4|    4|    4|    4|    4|    4|    4|    4|    4|    4|    4|    1|\n",
            "|   4|   4|   4|   0|   4|    3|    4|    4|    4|    4|    4|    4|    4|    4|    4|    4|    4|    4|    4|    4|    4|    4|    4|    4|    4|    1|\n",
            "|   3|   3|   3|   0|   4|    4|    3|    3|    3|    4|    3|    4|    3|    3|    4|    4|    4|    4|    4|    4|    4|    4|    4|    4|    4|    1|\n",
            "|   3|   3|   3|   0|   4|    4|    3|    3|    3|    4|    3|    4|    3|    3|    4|    4|    4|    4|    4|    4|    4|    4|    4|    4|    4|    1|\n",
            "|   3|   3|   3|   0|   4|    4|    3|    3|    3|    4|    3|    4|    3|    3|    4|    4|    4|    4|    4|    4|    4|    4|    4|    4|    4|    1|\n",
            "|   4|   3|   4|   0|   4|    2|    4|    3|    4|    4|    4|    4|    3|    4|    4|    4|    4|    4|    4|    4|    4|    4|    4|    4|    4|    1|\n",
            "|   4|   3|   4|   0|   4|    2|    4|    3|    4|    4|    4|    4|    3|    4|    4|    4|    4|    4|    4|    4|    4|    4|    4|    4|    4|    1|\n",
            "|   4|   4|   4|   0|   4|    3|    4|    4|    4|    4|    4|    4|    4|    4|    4|    4|    3|    4|    3|    4|    4|    4|    4|    3|    4|    1|\n",
            "|   3|   4|   3|   1|   3|    4|    3|    4|    3|    3|    3|    3|    4|    3|    3|    4|    4|    4|    4|    4|    4|    4|    4|    4|    4|    1|\n",
            "|   4|   4|   4|   0|   4|    3|    4|    4|    4|    4|    4|    4|    4|    4|    4|    4|    3|    4|    3|    4|    4|    4|    4|    3|    4|    1|\n",
            "+----+----+----+----+----+-----+-----+-----+-----+-----+-----+-----+-----+-----+-----+-----+-----+-----+-----+-----+-----+-----+-----+-----+-----+-----+\n",
            "only showing top 20 rows\n",
            "\n"
          ]
        }
      ],
      "source": [
        "from pyspark.sql import SparkSession\n",
        "\n",
        "spark = SparkSession.builder.appName('Divorce').getOrCreate()\n",
        "\n",
        "#loading the divorce dataset\n",
        "df = spark.read.csv('divorce.csv', header=True, inferSchema=True)\n",
        "df = df.select(\"Atr1\", \"Atr3\", \"Atr5\", \"Atr6\", \"Atr8\", \"Atr10\", \"Atr13\", \"Atr15\", \"Atr17\", \"Atr18\", \"Atr19\", \"Atr20\", \"Atr21\", \"Atr25\", \"Atr30\", \"Atr31\", \"Atr34\", \"Atr35\", \"Atr36\", \"Atr37\", \"Atr39\", \"Atr45\", \"Atr52\", \"Atr53\", \"Atr54\", \"Class\")\n",
        "\n",
        "\n",
        "\n",
        "df.show()\n"
      ]
    },
    {
      "cell_type": "code",
      "execution_count": null,
      "metadata": {
        "colab": {
          "base_uri": "https://localhost:8080/"
        },
        "id": "X9qrhn5cnMbn",
        "outputId": "21ae92d9-6f5c-45ad-b627-985dc0fd5aed"
      },
      "outputs": [
        {
          "output_type": "stream",
          "name": "stdout",
          "text": [
            "+----+----+----+----+----+-----+-----+-----+-----+-----+-----+-----+-----+-----+-----+-----+-----+-----+-----+-----+-----+-----+-----+-----+-----+-----+\n",
            "|Atr1|Atr3|Atr5|Atr6|Atr8|Atr10|Atr13|Atr15|Atr17|Atr18|Atr19|Atr20|Atr21|Atr25|Atr30|Atr31|Atr34|Atr35|Atr36|Atr37|Atr39|Atr45|Atr52|Atr53|Atr54|Class|\n",
            "+----+----+----+----+----+-----+-----+-----+-----+-----+-----+-----+-----+-----+-----+-----+-----+-----+-----+-----+-----+-----+-----+-----+-----+-----+\n",
            "|   0|   0|   0|   0|   0|    0|    0|    0|    0|    0|    0|    0|    0|    0|    0|    0|    0|    0|    0|    0|    0|    0|    0|    0|    0|    0|\n",
            "+----+----+----+----+----+-----+-----+-----+-----+-----+-----+-----+-----+-----+-----+-----+-----+-----+-----+-----+-----+-----+-----+-----+-----+-----+\n",
            "\n"
          ]
        }
      ],
      "source": [
        "from pyspark.sql.functions import col, sum\n",
        "\n",
        "# Count total null values for each column in all dataset\n",
        "df_null = df.select([sum(col(c).isNull().cast(\"int\")).alias(c) for c in df.columns])\n",
        "\n",
        "df_null.show()\n",
        "\n"
      ]
    },
    {
      "cell_type": "code",
      "execution_count": null,
      "metadata": {
        "id": "lP-3as5DnNOF"
      },
      "outputs": [],
      "source": [
        "df = df.dropna()"
      ]
    },
    {
      "cell_type": "markdown",
      "source": [
        "<font color=\"\" size=+1.0><b>- checking for duplicate values</b></font>"
      ],
      "metadata": {
        "id": "7mrMqEkROxQF"
      }
    },
    {
      "cell_type": "code",
      "execution_count": null,
      "metadata": {
        "colab": {
          "base_uri": "https://localhost:8080/"
        },
        "id": "GSURbmZGnOmt",
        "outputId": "8caad002-2aa5-4155-9fa6-2bf19cc511af"
      },
      "outputs": [
        {
          "output_type": "stream",
          "name": "stdout",
          "text": [
            "There are 16 duplicated rows in the dataset.\n",
            "Number of rows after dropping duplicates is 148.\n"
          ]
        }
      ],
      "source": [
        "df_duplicate = df.groupBy(df.columns).count().filter(col('count') > 1).count()\n",
        "\n",
        "# Print the number of duplicated rows\n",
        "print(\"There are {} duplicated rows in the dataset.\".format(df_duplicate))\n",
        "\n",
        "# Drop duplicates and get the new row count\n",
        "df = df.dropDuplicates()\n",
        "row_count = df.count()\n",
        "\n",
        "# Print the number of rows after dropping duplicates\n",
        "print(\"Number of rows after dropping duplicates is {}.\".format(row_count))"
      ]
    },
    {
      "cell_type": "markdown",
      "source": [
        "<font color=\"\" size=+1.0><b>EDA</b></font>"
      ],
      "metadata": {
        "id": "xIcN4wq6O1yu"
      }
    },
    {
      "cell_type": "code",
      "execution_count": null,
      "metadata": {
        "colab": {
          "base_uri": "https://localhost:8080/"
        },
        "id": "407nqbFjnUuX",
        "outputId": "21418597-4fd3-4cab-d90b-0015d4dc0453"
      },
      "outputs": [
        {
          "output_type": "stream",
          "name": "stdout",
          "text": [
            "+-------------------+----------------------+------------+----------------+------------------+------------+---------------------+-----------------+----------------------+----------------------+------------------+------------+-------------------+---------------------+---------------+--------------------+---------------------+------------------+-----------------------+--------------------+------------------+--------------+------------------+-------------------+---------------------+-----+\n",
            "|Apology_Termination|Revisiting_Discussions|Special_Time|Time_Constraints|Enjoyable_Holidays|Shared_Goals|Similar_Entertainment|Harmonious_Dreams|Shared_Happiness_Views|Similar_Marriage_Ideas|Similar_Role_Ideas|Trust_Values|Partner_Preferences|Inner_World_Knowledge|Partner_Friends|Aggressive_Arguments|Offensive_Expressions|Insulting_Behavior|Humiliating_Discussions|Calmless_Discussions|Sudden_Discussions|Prefer_Silence|Partner_Inadequacy|Reminder_Inadequacy|Fearless_Incompetence|Class|\n",
            "+-------------------+----------------------+------------+----------------+------------------+------------+---------------------+-----------------+----------------------+----------------------+------------------+------------+-------------------+---------------------+---------------+--------------------+---------------------+------------------+-----------------------+--------------------+------------------+--------------+------------------+-------------------+---------------------+-----+\n",
            "|                  2|                     2|           2|               1|                 3|           2|                    2|                4|                     2|                     3|                 2|           1|                  2|                    3|              3|                   1|                    2|                 2|                      1|                   4|                 4|             0|                 1|                  1|                    0|    1|\n",
            "|                  3|                     3|           3|               0|                 4|           4|                    3|                3|                     3|                     4|                 3|           4|                  3|                    3|              4|                   4|                    4|                 4|                      4|                   4|                 4|             4|                 4|                  4|                    4|    1|\n",
            "|                  0|                     0|           0|               0|                 0|           0|                    0|                0|                     0|                     0|                 0|           0|                  0|                    0|              0|                   0|                    1|                 0|                      0|                   0|                 1|             3|                 4|                  1|                    1|    0|\n",
            "|                  3|                     3|           3|               1|                 3|           3|                    3|                3|                     3|                     3|                 3|           3|                  3|                    3|              3|                   3|                    3|                 3|                      3|                   3|                 3|             3|                 3|                  3|                    3|    1|\n",
            "|                  1|                     2|           2|               1|                 2|           2|                    2|                2|                     2|                     1|                 0|           0|                  0|                    1|              0|                   0|                    1|                 0|                      0|                   0|                 0|             1|                 0|                  1|                    1|    0|\n",
            "|                  3|                     3|           3|               2|                 2|           4|                    3|                3|                     3|                     2|                 3|           2|                  3|                    3|              2|                   4|                    4|                 4|                      4|                   4|                 4|             3|                 4|                  4|                    4|    1|\n",
            "|                  3|                     1|           0|               0|                 0|           0|                    0|                1|                     0|                     0|                 0|           0|                  0|                    0|              0|                   0|                    0|                 0|                      0|                   0|                 0|             3|                 0|                  0|                    4|    0|\n",
            "|                  0|                     0|           0|               0|                 0|           0|                    0|                0|                     0|                     0|                 0|           0|                  0|                    0|              0|                   4|                    4|                 0|                      0|                   4|                 1|             0|                 2|                  2|                    2|    0|\n",
            "|                  4|                     3|           3|               1|                 0|           3|                    3|                3|                     3|                     3|                 3|           3|                  3|                    2|              2|                   2|                    3|                 3|                      3|                   3|                 4|             3|                 3|                  3|                    3|    1|\n",
            "|                  0|                     0|           0|               0|                 0|           0|                    0|                0|                     0|                     0|                 0|           0|                  0|                    0|              0|                   0|                    0|                 0|                      0|                   2|                 1|             4|                 0|                  1|                    0|    0|\n",
            "|                  0|                     1|           1|               0|                 0|           0|                    2|                1|                     1|                     1|                 1|           0|                  0|                    0|              0|                   0|                    0|                 0|                      0|                   1|                 1|             1|                 2|                  2|                    1|    0|\n",
            "|                  3|                     4|           3|               1|                 3|           4|                    3|                4|                     3|                     3|                 3|           3|                  4|                    3|              3|                   3|                    3|                 3|                      3|                   3|                 3|             3|                 3|                  3|                    3|    1|\n",
            "|                  3|                     3|           3|               0|                 4|           2|                    3|                3|                     3|                     4|                 3|           4|                  3|                    3|              4|                   4|                    4|                 4|                      4|                   4|                 4|             4|                 4|                  4|                    4|    1|\n",
            "|                  0|                     2|           0|               0|                 0|           2|                    1|                0|                     0|                     0|                 0|           0|                  0|                    1|              0|                   1|                    0|                 0|                      0|                   2|                 1|             0|                 0|                  3|                    0|    0|\n",
            "|                  0|                     0|           0|               2|                 0|           0|                    0|                0|                     0|                     0|                 0|           0|                  0|                    0|              0|                   0|                    0|                 0|                      0|                   1|                 0|             4|                 4|                  2|                    2|    0|\n",
            "|                  0|                     1|           0|               0|                 0|           0|                    3|                0|                     0|                     0|                 0|           0|                  0|                    1|              0|                   0|                    0|                 0|                      0|                   0|                 1|             2|                 2|                  2|                    0|    0|\n",
            "|                  2|                     0|           0|               0|                 0|           1|                    1|                1|                     1|                     1|                 0|           0|                  0|                    1|              0|                   0|                    0|                 1|                      0|                   1|                 1|             0|                 2|                  2|                    1|    0|\n",
            "|                  3|                     3|           3|               1|                 3|           2|                    3|                3|                     3|                     3|                 3|           3|                  3|                    3|              3|                   4|                    4|                 4|                      4|                   4|                 4|             4|                 4|                  4|                    4|    1|\n",
            "|                  3|                     3|           3|               1|                 3|           2|                    3|                3|                     3|                     3|                 3|           3|                  3|                    3|              3|                   4|                    4|                 4|                      4|                   4|                 4|             3|                 4|                  4|                    4|    1|\n",
            "|                  0|                     2|           0|               0|                 0|           0|                    0|                0|                     0|                     0|                 0|           0|                  0|                    0|              0|                   2|                    1|                 0|                      0|                   1|                 0|             2|                 4|                  4|                    0|    0|\n",
            "+-------------------+----------------------+------------+----------------+------------------+------------+---------------------+-----------------+----------------------+----------------------+------------------+------------+-------------------+---------------------+---------------+--------------------+---------------------+------------------+-----------------------+--------------------+------------------+--------------+------------------+-------------------+---------------------+-----+\n",
            "only showing top 20 rows\n",
            "\n"
          ]
        }
      ],
      "source": [
        "from pyspark.sql.functions import col\n",
        "\n",
        "# Define the mapping between current names and new names\n",
        "attribute_mapping = {\n",
        "    \"Atr1\": \"Apology_Termination\",\n",
        "    \"Atr3\": \"Revisiting_Discussions\",\n",
        "    \"Atr5\": \"Special_Time\",\n",
        "    \"Atr6\": \"Time_Constraints\",\n",
        "    \"Atr8\": \"Enjoyable_Holidays\",\n",
        "    \"Atr10\": \"Shared_Goals\",\n",
        "    \"Atr13\": \"Similar_Entertainment\",\n",
        "    \"Atr15\": \"Harmonious_Dreams\",\n",
        "    \"Atr17\": \"Shared_Happiness_Views\",\n",
        "    \"Atr18\": \"Similar_Marriage_Ideas\",\n",
        "    \"Atr19\": \"Similar_Role_Ideas\",\n",
        "    \"Atr20\": \"Trust_Values\",\n",
        "    \"Atr21\": \"Partner_Preferences\",\n",
        "    \"Atr25\": \"Inner_World_Knowledge\",\n",
        "    \"Atr30\": \"Partner_Friends\",\n",
        "    \"Atr31\": \"Aggressive_Arguments\",\n",
        "    \"Atr34\": \"Offensive_Expressions\",\n",
        "    \"Atr35\": \"Insulting_Behavior\",\n",
        "    \"Atr36\": \"Humiliating_Discussions\",\n",
        "    \"Atr37\": \"Calmless_Discussions\",\n",
        "    \"Atr39\": \"Sudden_Discussions\",\n",
        "    \"Atr45\": \"Prefer_Silence\",\n",
        "    \"Atr52\": \"Partner_Inadequacy\",\n",
        "    \"Atr53\": \"Reminder_Inadequacy\",\n",
        "    \"Atr54\": \"Fearless_Incompetence\"\n",
        "}\n",
        "\n",
        "# Rename the attributes in the dataframe\n",
        "for current_name, new_name in attribute_mapping.items():\n",
        "    df = df.withColumnRenamed(current_name, new_name)\n",
        "\n",
        "# Show the updated dataframe\n",
        "df.show()\n"
      ]
    },
    {
      "cell_type": "code",
      "source": [
        "from pyspark.sql.functions import count, when\n",
        "import matplotlib.pyplot as plt\n",
        "\n",
        "# Create a new column 'Divorce' based on 'Class' values\n",
        "df = df.withColumn('Divorce', when(df['Class'] == 1, 'Married').otherwise('divorced'))\n",
        "\n",
        "# Group the DataFrame by 'Class'\n",
        "divorce_counts = df.groupBy('Divorce').agg(count('*').alias('count')).orderBy('Divorce')\n",
        "divorce_counts.show()\n",
        "\n",
        "# Convert the result to a Pandas DataFrame for plotting\n",
        "divorce_counts_pd = divorce_counts.toPandas()\n",
        "\n",
        "\n",
        "# Create a count plot with different colors for bars\n",
        "plt.figure(figsize=(8, 6))\n",
        "colors = ['blue', 'red']\n",
        "plt.bar(divorce_counts_pd['Divorce'], divorce_counts_pd['count'], color=colors)\n",
        "plt.title('Divorce Status')\n",
        "plt.xlabel('Divorce')\n",
        "plt.ylabel('Count')\n",
        "plt.show()\n"
      ],
      "metadata": {
        "colab": {
          "base_uri": "https://localhost:8080/",
          "height": 646
        },
        "id": "bSRAJ346Bc1Q",
        "outputId": "57b3d50a-38e4-401d-de9a-783e4f14db32"
      },
      "execution_count": null,
      "outputs": [
        {
          "output_type": "stream",
          "name": "stdout",
          "text": [
            "+--------+-----+\n",
            "| Divorce|count|\n",
            "+--------+-----+\n",
            "| Married|   64|\n",
            "|divorced|   84|\n",
            "+--------+-----+\n",
            "\n"
          ]
        },
        {
          "output_type": "display_data",
          "data": {
            "text/plain": [
              "<Figure size 800x600 with 1 Axes>"
            ],
            "image/png": "[encoded data removed]"
          },
          "metadata": {}
        }
      ]
    },
    {
      "cell_type": "markdown",
      "metadata": {
        "id": "ipRAGIi0ncYE"
      },
      "source": [
        "**MODEL DEVELOPMENT**"
      ]
    },
    {
      "cell_type": "markdown",
      "source": [
        "1. Logistic Regression"
      ],
      "metadata": {
        "id": "4NqC4WBIyJ6e"
      }
    },
    {
      "cell_type": "code",
      "execution_count": null,
      "metadata": {
        "colab": {
          "base_uri": "https://localhost:8080/"
        },
        "id": "X6HvGoDyv9BI",
        "outputId": "8a48e87a-fa70-46d8-8518-de32ce2dc518"
      },
      "outputs": [
        {
          "output_type": "stream",
          "name": "stdout",
          "text": [
            "Accuracy: 0.9333333333333333\n",
            "Precision: 1.0\n",
            "Recall: 0.8181818181818182\n",
            "F1-score: 0.9\n",
            "Confusion Matrix:\n",
            " [[19  0]\n",
            " [ 2  9]]\n"
          ]
        }
      ],
      "source": [
        "from sklearn.linear_model import LogisticRegression\n",
        "from sklearn.model_selection import train_test_split\n",
        "from sklearn.metrics import accuracy_score, precision_score, recall_score, f1_score, confusion_matrix\n",
        "\n",
        "# Convert PySpark DataFrame to pandas DataFrame\n",
        "pandas_df = df.toPandas()\n",
        "\n",
        "# Split the data into features and labels\n",
        "X = pandas_df.iloc[:, :-1]  # Features (all columns except the last one)\n",
        "y = pandas_df.iloc[:, -1]  # Labels (last column)\n",
        "\n",
        "# Map the class labels to binary values\n",
        "y = y.map({'Married': 1, 'divorced': 0})  # Replace 'Married' with the positive class label\n",
        "\n",
        "\n",
        "# Split the data into training and test sets\n",
        "X_train, X_test, y_train, y_test = train_test_split(X, y, test_size=0.2, random_state=42)\n",
        "\n",
        "\n",
        "# Create a logistic regression model\n",
        "model = LogisticRegression()\n",
        "\n",
        "# Fit the model on the training data\n",
        "model.fit(X_train, y_train)\n",
        "\n",
        "# Make predictions on the test data\n",
        "y_pred = model.predict(X_test)\n",
        "\n",
        "# Calculate evaluation metrics\n",
        "accuracy = accuracy_score(y_test, y_pred)\n",
        "precision = precision_score(y_test, y_pred)\n",
        "recall = recall_score(y_test, y_pred)\n",
        "f1 = f1_score(y_test, y_pred)\n",
        "confusion_mat = confusion_matrix(y_test, y_pred)\n",
        "\n",
        "# Print the evaluation metrics and confusion matrix\n",
        "print(\"Accuracy:\", accuracy)\n",
        "print(\"Precision:\", precision)\n",
        "print(\"Recall:\", recall)\n",
        "print(\"F1-score:\", f1)\n",
        "print(\"Confusion Matrix:\\n\", confusion_mat)\n"
      ]
    },
    {
      "cell_type": "markdown",
      "metadata": {
        "id": "jkEogHaatb-S"
      },
      "source": [
        "2. Decision Tree"
      ]
    },
    {
      "cell_type": "code",
      "execution_count": null,
      "metadata": {
        "colab": {
          "base_uri": "https://localhost:8080/"
        },
        "id": "9fcXL--Ko4AD",
        "outputId": "ff88384b-9769-478d-a481-bf5db9f2967d"
      },
      "outputs": [
        {
          "output_type": "stream",
          "name": "stdout",
          "text": [
            "Accuracy: 1.0\n",
            "Precision: 1.0\n",
            "Recall: 1.0\n",
            "F1-score: 1.0\n",
            "Confusion Matrix:\n",
            " [[19  0]\n",
            " [ 0 11]]\n"
          ]
        }
      ],
      "source": [
        "from sklearn.tree import DecisionTreeClassifier\n",
        "from sklearn.model_selection import train_test_split\n",
        "from sklearn.metrics import accuracy_score, precision_score, recall_score, f1_score, confusion_matrix\n",
        "\n",
        "# Convert PySpark DataFrame to pandas DataFrame\n",
        "pandas_df = df.toPandas()\n",
        "\n",
        "# Split the data into features and labels\n",
        "X = pandas_df.iloc[:, :-1]  # Features (all columns except the last one)\n",
        "y = pandas_df.iloc[:, -1]  # Labels (last column)\n",
        "\n",
        "# Map the class labels to binary values\n",
        "y = y.map({'Married': 1, 'divorced': 0})  # Replace 'Married' with the positive class label\n",
        "\n",
        "# Split the data into training and test sets\n",
        "X_train, X_test, y_train, y_test = train_test_split(X, y, test_size=0.2, random_state=42)\n",
        "\n",
        "# Create a Decision Tree Classifier\n",
        "model = DecisionTreeClassifier()\n",
        "\n",
        "# Fit the model on the training data\n",
        "model.fit(X_train, y_train)\n",
        "\n",
        "# Make predictions on the test data\n",
        "y_pred = model.predict(X_test)\n",
        "\n",
        "# Calculate evaluation metrics\n",
        "accuracy = accuracy_score(y_test, y_pred)\n",
        "precision = precision_score(y_test, y_pred)\n",
        "recall = recall_score(y_test, y_pred)\n",
        "f1 = f1_score(y_test, y_pred)\n",
        "confusion_mat = confusion_matrix(y_test, y_pred)\n",
        "\n",
        "# Print the evaluation metrics and confusion matrix\n",
        "print(\"Accuracy:\", accuracy)\n",
        "print(\"Precision:\", precision)\n",
        "print(\"Recall:\", recall)\n",
        "print(\"F1-score:\", f1)\n",
        "print(\"Confusion Matrix:\\n\", confusion_mat)\n"
      ]
    },
    {
      "cell_type": "code",
      "source": [
        "import seaborn as sns\n",
        "import matplotlib.pyplot as plt\n",
        "\n",
        "# Calculate the confusion matrix\n",
        "confusion_mat = confusion_matrix(y_test, y_pred)\n",
        "\n",
        "# Create a heatmap of the confusion matrix\n",
        "sns.heatmap(confusion_mat, annot=True, cmap=\"Blues\", fmt=\"d\")\n",
        "\n",
        "# Add labels, title, and axis ticks\n",
        "plt.xlabel(\"Predicted\")\n",
        "plt.ylabel(\"Actual\")\n",
        "plt.title(\"Confusion Matrix\")\n",
        "plt.xticks([0.5, 1.5], ['Divorced', 'Married'])\n",
        "plt.yticks([0.5, 1.5], ['Divorced', 'Married'])\n",
        "\n",
        "# Show the plot\n",
        "plt.show()"
      ],
      "metadata": {
        "colab": {
          "base_uri": "https://localhost:8080/",
          "height": 472
        },
        "id": "YXstgKraJOjE",
        "outputId": "589d7f86-2ed8-424d-f9e8-a7a97bd3f476"
      },
      "execution_count": null,
      "outputs": [
        {
          "output_type": "display_data",
          "data": {
            "text/plain": [
              "<Figure size 640x480 with 2 Axes>"
            ],
            "image/png": "[encoded data removed]"
          },
          "metadata": {}
        }
      ]
    },
    {
      "cell_type": "markdown",
      "source": [
        "3. KNN"
      ],
      "metadata": {
        "id": "qYd5oeFvyW8E"
      }
    },
    {
      "cell_type": "code",
      "execution_count": null,
      "metadata": {
        "colab": {
          "base_uri": "https://localhost:8080/"
        },
        "id": "WbwvLkH1pb-9",
        "outputId": "ab833a5b-e882-477f-f086-46874d17b20a"
      },
      "outputs": [
        {
          "output_type": "stream",
          "name": "stdout",
          "text": [
            "Accuracy: 0.9318181818181818\n",
            "F1-score: 0.9289449680754028\n",
            "Precision: 0.9378342245989305\n",
            "Recall: 0.9318181818181818\n",
            "Confusion Matrix:\n",
            "[[31  0]\n",
            " [ 3 10]]\n"
          ]
        }
      ],
      "source": [
        "from pyspark.ml.feature import VectorAssembler\n",
        "from pyspark.sql import SparkSession\n",
        "from sklearn.neighbors import KNeighborsClassifier\n",
        "from sklearn.metrics import accuracy_score, f1_score, precision_score, recall_score, confusion_matrix\n",
        "\n",
        "# Create a SparkSession\n",
        "spark = SparkSession.builder.getOrCreate()\n",
        "\n",
        "# Assuming your Spark DataFrame has columns 'feature1', 'feature2', ..., 'Class'\n",
        "# Selecting all columns except 'Class' as features\n",
        "feature_cols = df.columns[:-1]  # Excluding the last column ('Class')\n",
        "assembler = VectorAssembler(inputCols=feature_cols, outputCol='features')\n",
        "\n",
        "# Transform the DataFrame using the VectorAssembler\n",
        "feature_vector = assembler.transform(df).select('features', 'Class')\n",
        "\n",
        "# Convert the DataFrame to a Pandas DataFrame for scikit-learn compatibility\n",
        "pandas_df = feature_vector.toPandas()\n",
        "\n",
        "# Split the data into training and testing sets\n",
        "training_data, testing_data = pandas_df.sample(frac=0.7, random_state=42), pandas_df.sample(frac=0.3, random_state=42)\n",
        "\n",
        "# Extract the features and labels from the Pandas DataFrames\n",
        "X_train, y_train = training_data['features'].tolist(), training_data['Class'].tolist()\n",
        "X_test, y_test = testing_data['features'].tolist(), testing_data['Class'].tolist()\n",
        "\n",
        "# Create a KNN classifier\n",
        "k = 5  # Set the value of k for KNN\n",
        "knn = KNeighborsClassifier(n_neighbors=k)\n",
        "\n",
        "# Fit the model on the training data\n",
        "knn.fit(X_train, y_train)\n",
        "\n",
        "# Make predictions on the test data\n",
        "y_pred = knn.predict(X_test)\n",
        "\n",
        "# Calculate evaluation metrics\n",
        "accuracy = accuracy_score(y_test, y_pred)\n",
        "f1 = f1_score(y_test, y_pred, average='weighted')\n",
        "precision = precision_score(y_test, y_pred, average='weighted')\n",
        "recall = recall_score(y_test, y_pred, average='weighted')\n",
        "confusion_mat = confusion_matrix(y_test, y_pred)\n",
        "\n",
        "# Print the evaluation metrics and confusion matrix\n",
        "print(\"Accuracy:\", accuracy)\n",
        "print(\"F1-score:\", f1)\n",
        "print(\"Precision:\", precision)\n",
        "print(\"Recall:\", recall)\n",
        "print(\"Confusion Matrix:\")\n",
        "print(confusion_mat)\n"
      ]
    },
    {
      "cell_type": "markdown",
      "metadata": {
        "id": "oBNyddCdtxbo"
      },
      "source": [
        "4. Random Forest"
      ]
    },
    {
      "cell_type": "code",
      "execution_count": null,
      "metadata": {
        "colab": {
          "base_uri": "https://localhost:8080/"
        },
        "id": "0XCSluzOps5b",
        "outputId": "334f197c-0f56-46ed-a79b-57db7bd58618"
      },
      "outputs": [
        {
          "output_type": "stream",
          "name": "stdout",
          "text": [
            "Accuracy: 0.9333333333333333\n",
            "Precision: 1.0\n",
            "Recall: 0.8181818181818182\n",
            "F1-score: 0.9\n",
            "Confusion Matrix:\n",
            " [[19  0]\n",
            " [ 2  9]]\n"
          ]
        }
      ],
      "source": [
        "from sklearn.ensemble import RandomForestClassifier\n",
        "from sklearn.model_selection import train_test_split\n",
        "from sklearn.metrics import accuracy_score, precision_score, recall_score, f1_score, confusion_matrix\n",
        "\n",
        "# Convert PySpark DataFrame to pandas DataFrame\n",
        "pandas_df = df.toPandas()\n",
        "\n",
        "# Split the data into features and labels\n",
        "X = pandas_df.iloc[:, :-1]  # Features (all columns except the last one)\n",
        "y = pandas_df.iloc[:, -1]  # Labels (last column)\n",
        "\n",
        "# Map the class labels to binary values\n",
        "y = y.map({'Married': 1, 'divorced': 0})  # Replace 'Married' with the positive class label\n",
        "\n",
        "\n",
        "# Split the data into training and test sets\n",
        "X_train, X_test, y_train, y_test = train_test_split(X, y, test_size=0.2, random_state=42)\n",
        "\n",
        "# Create a Random Forest Classifier\n",
        "model = RandomForestClassifier()\n",
        "\n",
        "# Fit the model on the training data\n",
        "model.fit(X_train, y_train)\n",
        "\n",
        "# Make predictions on the test data\n",
        "y_pred = model.predict(X_test)\n",
        "\n",
        "# Calculate evaluation metrics\n",
        "accuracy = accuracy_score(y_test, y_pred)\n",
        "precision = precision_score(y_test, y_pred)\n",
        "recall = recall_score(y_test, y_pred)\n",
        "f1 = f1_score(y_test, y_pred)\n",
        "confusion_mat = confusion_matrix(y_test, y_pred)\n",
        "\n",
        "# Print the evaluation metrics and confusion matrix\n",
        "print(\"Accuracy:\", accuracy)\n",
        "print(\"Precision:\", precision)\n",
        "print(\"Recall:\", recall)\n",
        "print(\"F1-score:\", f1)\n",
        "print(\"Confusion Matrix:\\n\", confusion_mat)\n"
      ]
    },
    {
      "cell_type": "markdown",
      "metadata": {
        "id": "DYrhsLqat-e7"
      },
      "source": [
        "5. SVM"
      ]
    },
    {
      "cell_type": "code",
      "execution_count": null,
      "metadata": {
        "colab": {
          "base_uri": "https://localhost:8080/"
        },
        "id": "JZEwmvU_t_sp",
        "outputId": "ca4d58ca-822b-4fff-b400-5b011a759195"
      },
      "outputs": [
        {
          "output_type": "stream",
          "name": "stdout",
          "text": [
            "Accuracy: 0.9333333333333333\n",
            "Precision: 1.0\n",
            "Recall: 0.8181818181818182\n",
            "F1-score: 0.9\n",
            "Confusion Matrix:\n",
            " [[19  0]\n",
            " [ 2  9]]\n"
          ]
        }
      ],
      "source": [
        "from sklearn.svm import SVC\n",
        "from sklearn.model_selection import train_test_split\n",
        "from sklearn.metrics import accuracy_score, precision_score, recall_score, f1_score, confusion_matrix\n",
        "\n",
        "# Convert PySpark DataFrame to pandas DataFrame\n",
        "pandas_df = df.toPandas()\n",
        "\n",
        "# Split the data into features and labels\n",
        "X = pandas_df.iloc[:, :-1]  # Features (all columns except the last one)\n",
        "y = pandas_df.iloc[:, -1]  # Labels (last column)\n",
        "\n",
        "# Map the class labels to binary values\n",
        "y = y.map({'Married': 1, 'divorced': 0})  # Replace 'Married' with the positive class label\n",
        "\n",
        "\n",
        "# Split the data into training and test sets\n",
        "X_train, X_test, y_train, y_test = train_test_split(X, y, test_size=0.2, random_state=42)\n",
        "\n",
        "# Create an SVM classifier\n",
        "model = SVC()\n",
        "\n",
        "# Fit the model on the training data\n",
        "model.fit(X_train, y_train)\n",
        "\n",
        "# Make predictions on the test data\n",
        "y_pred = model.predict(X_test)\n",
        "\n",
        "# Calculate evaluation metrics\n",
        "accuracy = accuracy_score(y_test, y_pred)\n",
        "precision = precision_score(y_test, y_pred)\n",
        "recall = recall_score(y_test, y_pred)\n",
        "f1 = f1_score(y_test, y_pred)\n",
        "confusion_mat = confusion_matrix(y_test, y_pred)\n",
        "\n",
        "# Print the evaluation metrics and confusion matrix\n",
        "print(\"Accuracy:\", accuracy)\n",
        "print(\"Precision:\", precision)\n",
        "print(\"Recall:\", recall)\n",
        "print(\"F1-score:\", f1)\n",
        "print(\"Confusion Matrix:\\n\", confusion_mat)\n"
      ]
    },
    {
      "cell_type": "markdown",
      "source": [
        "Model visualization"
      ],
      "metadata": {
        "id": "5v8j6TO914LC"
      }
    },
    {
      "cell_type": "code",
      "source": [
        "from sklearn.tree import DecisionTreeClassifier\n",
        "from sklearn.model_selection import train_test_split\n",
        "from sklearn.metrics import accuracy_score, precision_score, recall_score, f1_score, confusion_matrix\n",
        "from sklearn import tree\n",
        "import graphviz\n",
        "\n",
        "# Convert PySpark DataFrame to pandas DataFrame\n",
        "pandas_df = df.toPandas()\n",
        "\n",
        "# Split the data into features and labels\n",
        "X = pandas_df.iloc[:, :-1]  # Features (all columns except the last one)\n",
        "y = pandas_df.iloc[:, -1]  # Labels (last column)\n",
        "\n",
        "# Map the class labels to binary values\n",
        "y = y.map({'Married': 1, 'divorced': 0})  # Replace 'Married' with the positive class label\n",
        "\n",
        "# Split the data into training and test sets\n",
        "X_train, X_test, y_train, y_test = train_test_split(X, y, test_size=0.2, random_state=42)\n",
        "\n",
        "# Create a Decision Tree Classifier\n",
        "model = DecisionTreeClassifier()\n",
        "\n",
        "# Fit the model on the training data\n",
        "model.fit(X_train, y_train)\n",
        "\n",
        "# Visualize the decision tree\n",
        "dot_data = tree.export_graphviz(model, out_file=None, feature_names=X.columns, class_names=['divorced', 'Married'], filled=True)\n",
        "graph = graphviz.Source(dot_data)\n",
        "\n",
        "# Display the decision tree in Colab\n",
        "graph\n"
      ],
      "metadata": {
        "colab": {
          "base_uri": "https://localhost:8080/",
          "height": 281
        },
        "id": "OOkKKSWSDoGS",
        "outputId": "30e06d34-7cdf-48ba-fae0-9aac8b7c42eb"
      },
      "execution_count": null,
      "outputs": [
        {
          "output_type": "execute_result",
          "data": {
            "image/svg+xml": "<?xml version=\"1.0\" encoding=\"UTF-8\" standalone=\"no\"?>\n<!DOCTYPE svg PUBLIC \"-//W3C//DTD SVG 1.1//EN\"\n \"http://www.w3.org/Graphics/SVG/1.1/DTD/svg11.dtd\">\n<!-- Generated by graphviz version 2.43.0 (0)\n -->\n<!-- Title: Tree Pages: 1 -->\n<svg width=\"250pt\" height=\"195pt\"\n viewBox=\"0.00 0.00 250.00 195.00\" xmlns=\"http://www.w3.org/2000/svg\" xmlns:xlink=\"http://www.w3.org/1999/xlink\">\n<g id=\"graph0\" class=\"graph\" transform=\"scale(1 1) rotate(0) translate(4 191)\">\n<title>Tree</title>\n<polygon fill=\"white\" stroke=\"transparent\" points=\"-4,4 -4,-191 246,-191 246,4 -4,4\"/>\n<!-- 0 -->\n<g id=\"node1\" class=\"node\">\n<title>0</title>\n<polygon fill=\"#fae8da\" stroke=\"black\" points=\"179,-187 65,-187 65,-104 179,-104 179,-187\"/>\n<text text-anchor=\"middle\" x=\"122\" y=\"-171.8\" font-family=\"Helvetica,sans-Serif\" font-size=\"14.00\">Class &lt;= 0.5</text>\n<text text-anchor=\"middle\" x=\"122\" y=\"-156.8\" font-family=\"Helvetica,sans-Serif\" font-size=\"14.00\">gini = 0.495</text>\n<text text-anchor=\"middle\" x=\"122\" y=\"-141.8\" font-family=\"Helvetica,sans-Serif\" font-size=\"14.00\">samples = 118</text>\n<text text-anchor=\"middle\" x=\"122\" y=\"-126.8\" font-family=\"Helvetica,sans-Serif\" font-size=\"14.00\">value = [65, 53]</text>\n<text text-anchor=\"middle\" x=\"122\" y=\"-111.8\" font-family=\"Helvetica,sans-Serif\" font-size=\"14.00\">class = divorced</text>\n</g>\n<!-- 1 -->\n<g id=\"node2\" class=\"node\">\n<title>1</title>\n<polygon fill=\"#e58139\" stroke=\"black\" points=\"114,-68 0,-68 0,0 114,0 114,-68\"/>\n<text text-anchor=\"middle\" x=\"57\" y=\"-52.8\" font-family=\"Helvetica,sans-Serif\" font-size=\"14.00\">gini = 0.0</text>\n<text text-anchor=\"middle\" x=\"57\" y=\"-37.8\" font-family=\"Helvetica,sans-Serif\" font-size=\"14.00\">samples = 65</text>\n<text text-anchor=\"middle\" x=\"57\" y=\"-22.8\" font-family=\"Helvetica,sans-Serif\" font-size=\"14.00\">value = [65, 0]</text>\n<text text-anchor=\"middle\" x=\"57\" y=\"-7.8\" font-family=\"Helvetica,sans-Serif\" font-size=\"14.00\">class = divorced</text>\n</g>\n<!-- 0&#45;&gt;1 -->\n<g id=\"edge1\" class=\"edge\">\n<title>0&#45;&gt;1</title>\n<path fill=\"none\" stroke=\"black\" d=\"M97.8,-103.73C92.6,-94.97 87.1,-85.7 81.88,-76.91\"/>\n<polygon fill=\"black\" stroke=\"black\" points=\"84.88,-75.11 76.77,-68.3 78.86,-78.69 84.88,-75.11\"/>\n<text text-anchor=\"middle\" x=\"70.59\" y=\"-88.82\" font-family=\"Helvetica,sans-Serif\" font-size=\"14.00\">True</text>\n</g>\n<!-- 2 -->\n<g id=\"node3\" class=\"node\">\n<title>2</title>\n<polygon fill=\"#399de5\" stroke=\"black\" points=\"242,-68 132,-68 132,0 242,0 242,-68\"/>\n<text text-anchor=\"middle\" x=\"187\" y=\"-52.8\" font-family=\"Helvetica,sans-Serif\" font-size=\"14.00\">gini = 0.0</text>\n<text text-anchor=\"middle\" x=\"187\" y=\"-37.8\" font-family=\"Helvetica,sans-Serif\" font-size=\"14.00\">samples = 53</text>\n<text text-anchor=\"middle\" x=\"187\" y=\"-22.8\" font-family=\"Helvetica,sans-Serif\" font-size=\"14.00\">value = [0, 53]</text>\n<text text-anchor=\"middle\" x=\"187\" y=\"-7.8\" font-family=\"Helvetica,sans-Serif\" font-size=\"14.00\">class = Married</text>\n</g>\n<!-- 0&#45;&gt;2 -->\n<g id=\"edge2\" class=\"edge\">\n<title>0&#45;&gt;2</title>\n<path fill=\"none\" stroke=\"black\" d=\"M146.2,-103.73C151.4,-94.97 156.9,-85.7 162.12,-76.91\"/>\n<polygon fill=\"black\" stroke=\"black\" points=\"165.14,-78.69 167.23,-68.3 159.12,-75.11 165.14,-78.69\"/>\n<text text-anchor=\"middle\" x=\"173.41\" y=\"-88.82\" font-family=\"Helvetica,sans-Serif\" font-size=\"14.00\">False</text>\n</g>\n</g>\n</svg>\n",
            "text/plain": [
              "<graphviz.sources.Source at 0x7f10efcf6050>"
            ]
          },
          "metadata": {},
          "execution_count": 33
        }
      ]
    }
  ],
  "metadata": {
    "colab": {
      "provenance": [],
      "include_colab_link": true
    },
    "kernelspec": {
      "display_name": "Python 3",
      "name": "python3"
    },
    "language_info": {
      "name": "python"
    }
  },
  "nbformat": 4,
  "nbformat_minor": 0
}